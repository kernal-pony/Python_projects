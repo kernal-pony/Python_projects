{
 "cells": [
  {
   "cell_type": "code",
   "execution_count": 5,
   "id": "d341624c-dccf-42b7-a83e-343abf835444",
   "metadata": {},
   "outputs": [
    {
     "name": "stdin",
     "output_type": "stream",
     "text": [
      "Press Enter to start \n"
     ]
    },
    {
     "name": "stdout",
     "output_type": "stream",
     "text": [
      "_________________________________\n"
     ]
    },
    {
     "name": "stdin",
     "output_type": "stream",
     "text": [
      "Problem#1: 4 - 7 =  -3\n",
      "Problem#2: 6 - 7 =  -1\n",
      "Problem#3: 7 + 9 =  16\n",
      "Problem#4: 4 * 5 =  20\n",
      "Problem#5: 7 - 5 =  2\n",
      "Problem#6: 11 * 7 =  77\n",
      "Problem#7: 6 - 9 =  -3\n",
      "Problem#8: 3 - 6 =  -3\n",
      "Problem#9: 6 - 10 =  -4\n",
      "Problem#10: 11 * 6 =  66\n"
     ]
    },
    {
     "name": "stdout",
     "output_type": "stream",
     "text": [
      "_________________________________\n",
      "Nice WorK!You finished it in :-  16\n"
     ]
    }
   ],
   "source": [
    "import time\n",
    "import random\n",
    "\n",
    "OPERATORS = [\"+\",\"-\",\"*\"]\n",
    "MIN_OPRAND = 3\n",
    "MAX_OPERAND = 12\n",
    "TOTAL_PROBS = 10\n",
    "\n",
    "def generate_problem():\n",
    "    left = random.randint(MIN_OPRAND,MAX_OPERAND)\n",
    "    right= random.randint(MIN_OPRAND,MAX_OPERAND)\n",
    "\n",
    "    operator = random.choice(OPERATORS)\n",
    "\n",
    "    expr = str(left) + \" \"+ operator +\" \" +str(right)\n",
    "    answer = eval(expr)\n",
    "\n",
    "\n",
    "    return expr,answer\n",
    "\n",
    "wrong=0\n",
    "input(\"Press Enter to start\")\n",
    "print(\"_________________________________\")\n",
    "\n",
    "\n",
    "start_time=  time.time()\n",
    "\n",
    "\n",
    "for i in range(TOTAL_PROBS):\n",
    "    expr, answer =generate_problem()\n",
    "    while True:\n",
    "        guess = input(\"Problem#\"+str(i+1)+\": \"+ expr+\" = \")\n",
    "        if (guess) == str(answer):\n",
    "            break\n",
    "        wrong+=1\n",
    "\n",
    "end_time= time.time()\n",
    "\n",
    "lapse_time = round(end_time - start_time)\n",
    "print(\"_________________________________\")\n",
    "print(\"Nice WorK!You finished it in :- \",lapse_time)"
   ]
  },
  {
   "cell_type": "code",
   "execution_count": null,
   "id": "3a5c42b3-47c1-4a74-981d-64a80ff91b32",
   "metadata": {},
   "outputs": [],
   "source": [
    "|"
   ]
  }
 ],
 "metadata": {
  "kernelspec": {
   "display_name": "Python 3 (ipykernel)",
   "language": "python",
   "name": "python3"
  },
  "language_info": {
   "codemirror_mode": {
    "name": "ipython",
    "version": 3
   },
   "file_extension": ".py",
   "mimetype": "text/x-python",
   "name": "python",
   "nbconvert_exporter": "python",
   "pygments_lexer": "ipython3",
   "version": "3.10.8"
  }
 },
 "nbformat": 4,
 "nbformat_minor": 5
}
