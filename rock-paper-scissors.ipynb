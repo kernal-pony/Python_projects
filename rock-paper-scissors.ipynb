{
 "cells": [
  {
   "cell_type": "code",
   "execution_count": 1,
   "id": "85cbb12a-e701-4436-adc7-14e473449a24",
   "metadata": {},
   "outputs": [
    {
     "name": "stdin",
     "output_type": "stream",
     "text": [
      "Type Rock/Paper/Scissors or Q to quit.  rock\n"
     ]
    },
    {
     "name": "stdout",
     "output_type": "stream",
     "text": [
      "Computer picked: rock .\n",
      "You Lost, computer wins!\n"
     ]
    },
    {
     "name": "stdin",
     "output_type": "stream",
     "text": [
      "Type Rock/Paper/Scissors or Q to quit.  paper\n"
     ]
    },
    {
     "name": "stdout",
     "output_type": "stream",
     "text": [
      "Computer picked: scissors .\n",
      "You Lost, computer wins!\n"
     ]
    },
    {
     "name": "stdin",
     "output_type": "stream",
     "text": [
      "Type Rock/Paper/Scissors or Q to quit.  rock\n"
     ]
    },
    {
     "name": "stdout",
     "output_type": "stream",
     "text": [
      "Computer picked: paper .\n",
      "You Lost, computer wins!\n"
     ]
    },
    {
     "name": "stdin",
     "output_type": "stream",
     "text": [
      "Type Rock/Paper/Scissors or Q to quit.  scissors\n"
     ]
    },
    {
     "name": "stdout",
     "output_type": "stream",
     "text": [
      "Computer picked: scissors .\n",
      "You Lost, computer wins!\n"
     ]
    },
    {
     "name": "stdin",
     "output_type": "stream",
     "text": [
      "Type Rock/Paper/Scissors or Q to quit.  rock\n"
     ]
    },
    {
     "name": "stdout",
     "output_type": "stream",
     "text": [
      "Computer picked: paper .\n",
      "You Lost, computer wins!\n"
     ]
    },
    {
     "name": "stdin",
     "output_type": "stream",
     "text": [
      "Type Rock/Paper/Scissors or Q to quit.  paper\n"
     ]
    },
    {
     "name": "stdout",
     "output_type": "stream",
     "text": [
      "Computer picked: scissors .\n",
      "You Lost, computer wins!\n"
     ]
    },
    {
     "name": "stdin",
     "output_type": "stream",
     "text": [
      "Type Rock/Paper/Scissors or Q to quit.  scissors\n"
     ]
    },
    {
     "name": "stdout",
     "output_type": "stream",
     "text": [
      "Computer picked: paper .\n",
      "BINGO!!!, YOU BET COMPUTER!\n"
     ]
    },
    {
     "name": "stdin",
     "output_type": "stream",
     "text": [
      "Type Rock/Paper/Scissors or Q to quit.  q\n"
     ]
    },
    {
     "name": "stdout",
     "output_type": "stream",
     "text": [
      "You won 1 times::\n",
      "Computer wins 6 times::\n",
      "GoodBye!\n"
     ]
    }
   ],
   "source": [
    "import random\n",
    "\n",
    "user_wins=0\n",
    "comp_wins=0\n",
    "options = [\"rock\", \"paper\", \"scissors\"]\n",
    "\n",
    "while True:\n",
    "    user_input = input(\"Type Rock/Paper/Scissors or Q to quit. \").lower()\n",
    "    if user_input== 'q':\n",
    "        break\n",
    "    else:\n",
    "        if user_input not in options:\n",
    "            continue\n",
    "\n",
    "        random_number = random.randint(0,2)\n",
    "        # rock:0 paper:1 sciisors:2\n",
    "        comp_picks= options[random_number]\n",
    "\n",
    "        print(\"Computer picked:\", comp_picks,\".\" )\n",
    "        if user_input==\"rock\" and comp_picks== \"scissors\":\n",
    "            print(\"BINGO!!!, YOU BET COMPUTER!\")\n",
    "            user_wins+=1\n",
    "            continue\n",
    "\n",
    "        elif user_input==\"paper\" and comp_picks== \"rock\":\n",
    "            print(\"BINGO!!!, YOU BET COMPUTER!\")\n",
    "            user_wins+=1\n",
    "            continue\n",
    "\n",
    "        elif user_input==\"scissors\" and comp_picks== \"paper\":\n",
    "            print(\"BINGO!!!, YOU BET COMPUTER!\")\n",
    "            user_wins+=1\n",
    "            continue\n",
    "\n",
    "        else:\n",
    "            print(\"You Lost, computer wins!\")\n",
    "            comp_wins+=1\n",
    "\n",
    "print(\"You won\",user_wins,\"times::\")\n",
    "print(\"Computer wins\",comp_wins,\"times::\")\n",
    "print(\"GoodBye!\")"
   ]
  },
  {
   "cell_type": "code",
   "execution_count": null,
   "id": "f5faee1d-be1f-42f9-9d0a-764ea904aca2",
   "metadata": {},
   "outputs": [],
   "source": []
  }
 ],
 "metadata": {
  "kernelspec": {
   "display_name": "Python 3 (ipykernel)",
   "language": "python",
   "name": "python3"
  },
  "language_info": {
   "codemirror_mode": {
    "name": "ipython",
    "version": 3
   },
   "file_extension": ".py",
   "mimetype": "text/x-python",
   "name": "python",
   "nbconvert_exporter": "python",
   "pygments_lexer": "ipython3",
   "version": "3.10.8"
  }
 },
 "nbformat": 4,
 "nbformat_minor": 5
}
