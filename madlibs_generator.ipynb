{
 "cells": [
  {
   "cell_type": "code",
   "execution_count": 1,
   "id": "25bb3431-e680-42ee-8c40-2d56fa5e8c27",
   "metadata": {},
   "outputs": [
    {
     "name": "stdin",
     "output_type": "stream",
     "text": [
      "Enter a word for <animal>: DOg\n",
      "Enter a word for <adjective>: carefull\n",
      "Enter a word for <verb>: dawing\n",
      "Enter a word for <plural noun>: Rohan\n",
      "Enter a word for <place>: siliguri\n",
      "Enter a word for <noun>: Halpful\n",
      "Enter a word for <emotion>: happy\n"
     ]
    },
    {
     "name": "stdout",
     "output_type": "stream",
     "text": [
      "Once upon a time, there was a carefull Halpful who lived in a siliguri.\n",
      "Every day, they would dawing in their Halpful, dreaming of Rohan.\n",
      "One day, a carefull Halpful appeared and asked for Rohan.\n",
      "The Halpful was happy and decided to dawing to find them. Along the way, they met a carefull DOg who helped them dawing to the siliguri.\n",
      "Finally, they found Rohan and celebrated with a big Halpful.\n"
     ]
    }
   ],
   "source": [
    "with open(\"story.txt\",\"r\") as f:\n",
    "    story =f.read()\n",
    "\n",
    "words=set()\n",
    "start_of_word=-1\n",
    "target_start = '<'\n",
    "target_stop = '>'\n",
    "\n",
    "for i , char in enumerate(story):\n",
    "    if char == target_start:\n",
    "        start_of_word= i\n",
    "\n",
    "    if char == target_stop and start_of_word !=-1:\n",
    "        word = story[start_of_word:i+1]\n",
    "        words.add(word)\n",
    "        start_of_word =-1\n",
    "\n",
    "answers = {}\n",
    "\n",
    "for word in words:\n",
    "    answer = input(\"Enter a word for \"+word+ \":\")\n",
    "    answers[word]= answer\n",
    "\n",
    "for word in words:\n",
    "    story=story.replace(word,answers[word])\n",
    "\n",
    "print(story)"
   ]
  },
  {
   "cell_type": "code",
   "execution_count": null,
   "id": "613125d6-5cce-4cb4-a09c-ce858e9260ba",
   "metadata": {},
   "outputs": [],
   "source": []
  }
 ],
 "metadata": {
  "kernelspec": {
   "display_name": "Python 3 (ipykernel)",
   "language": "python",
   "name": "python3"
  },
  "language_info": {
   "codemirror_mode": {
    "name": "ipython",
    "version": 3
   },
   "file_extension": ".py",
   "mimetype": "text/x-python",
   "name": "python",
   "nbconvert_exporter": "python",
   "pygments_lexer": "ipython3",
   "version": "3.10.8"
  }
 },
 "nbformat": 4,
 "nbformat_minor": 5
}
