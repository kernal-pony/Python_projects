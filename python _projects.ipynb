{
 "cells": [
  {
   "cell_type": "markdown",
   "id": "f5022367-114b-42bb-9c3c-767655039675",
   "metadata": {},
   "source": [
    "## Python code to start if-based  games"
   ]
  },
  {
   "cell_type": "code",
   "execution_count": 1,
   "id": "d9c2fce7-4aaf-4d01-8dfe-6cea941d07d1",
   "metadata": {},
   "outputs": [
    {
     "name": "stdin",
     "output_type": "stream",
     "text": [
      "Enter your name:: Arnab\n"
     ]
    },
    {
     "name": "stdout",
     "output_type": "stream",
     "text": [
      "Welcome, Arnab to this adventure game!\n"
     ]
    },
    {
     "name": "stdin",
     "output_type": "stream",
     "text": [
      "You are on dirt road,it has come to an end.. and you can go left or right..Which way you wanna go? right\n",
      "You strolled up to a hanging bridge. do you want to CROSS it or HEAD BACK?(cross/headback) cross\n",
      "you crossed the bridge and meet a stanger! Do you TALK/ IGNORE the person? Talk\n"
     ]
    },
    {
     "name": "stdout",
     "output_type": "stream",
     "text": [
      "You talk to the starnger.. gives you bounty!.. BINGO you have WON :-)\n",
      "Please join again to go in adventure! Arnab\n"
     ]
    }
   ],
   "source": [
    "#code\n",
    "name = input(\"Enter your name::\")\n",
    "print(\"Welcome,\", name, \"to this adventure game!\")\n",
    "\n",
    "answer = input(\"You are on dirt road,it has come to an end.. and you can go left or right..Which way you wanna go?\").lower()\n",
    "\n",
    "if answer == \"left\":\n",
    "    answer = input(\"You come to a river.you can WALK or SWIM across. type WALK to walk around or SWIM to swim across.\").lower()\n",
    "\n",
    "    if answer == \"swim\":\n",
    "        print(\"you swim across and were to eaten by alligator!\")\n",
    "\n",
    "    elif answer == \"walk\":\n",
    "        print(\"You walked for miles and ran out of water and lost the game!\")\n",
    "\n",
    "\n",
    "    else:\n",
    "        print(\"Not a valid option. You lose!\")\n",
    "\n",
    "elif answer == \"right\":\n",
    "    answer=input(\"You strolled up to a hanging bridge. do you want to CROSS it or HEAD BACK?(cross/headback)\").lower()\n",
    "\n",
    "    if answer == \"cross\":\n",
    "        answer = input(\"you crossed the bridge and meet a stanger! Do you TALK/ IGNORE the person?\").lower()\n",
    "\n",
    "        if answer == \"talk\":\n",
    "            print(\"You talk to the starnger.. gives you bounty!.. BINGO you have WON :-)\")\n",
    "\n",
    "        elif answer == \"ignore\":\n",
    "            print(\"You are a terrible person.. Humble Yourself.. Sad but you LOST\")\n",
    "\n",
    "        else:\n",
    "            print(\"Invalid choice!.. You lose.\")\n",
    "\n",
    "\n",
    "    elif answer == \"headback\":\n",
    "        print(\"You go back and lose!\")\n",
    "\n",
    "\n",
    "    else:\n",
    "        print(\"Not a valid option. You lose!\")\n",
    "else:\n",
    "    print(\"Not a valid option.. You lose:-( \")\n",
    "\n",
    "print(\"Please join again to go in adventure!\",name)\n",
    "\n"
   ]
  },
  {
   "cell_type": "code",
   "execution_count": null,
   "id": "dfc1b436-be42-432c-b661-4a818471fbdc",
   "metadata": {},
   "outputs": [],
   "source": []
  },
  {
   "cell_type": "markdown",
   "id": "2c89a541-0452-4462-a7c4-80041359d57c",
   "metadata": {},
   "source": [
    "## Madlib games"
   ]
  },
  {
   "cell_type": "code",
   "execution_count": 4,
   "id": "175cbfac-ad38-4e9c-af08-57b5179664ee",
   "metadata": {},
   "outputs": [
    {
     "name": "stdin",
     "output_type": "stream",
     "text": [
      "Enter a word for <noun>: Car\n",
      "Enter a word for <emotion>: happy\n",
      "Enter a word for <plural noun>: Rohan\n",
      "Enter a word for <verb>: driving\n",
      "Enter a word for <adjective>: Steffenaous\n",
      "Enter a word for <place>: Siliguri\n",
      "Enter a word for <animal>: Dog\n"
     ]
    },
    {
     "name": "stdout",
     "output_type": "stream",
     "text": [
      "Once upon a time, there was a Steffenaous Car who lived in a Siliguri.\n",
      "Every day, they would driving in their Car, dreaming of Rohan.\n",
      "One day, a Steffenaous Car appeared and asked for Rohan.\n",
      "The Car was happy and decided to driving to find them. Along the way, they met a Steffenaous Dog who helped them driving to the Siliguri.\n",
      "Finally, they found Rohan and celebrated with a big Car.\n"
     ]
    }
   ],
   "source": [
    "## code\n",
    "with open(\"story.txt\",\"r\") as f:\n",
    "    story =f.read()\n",
    "\n",
    "words=set()\n",
    "start_of_word=-1\n",
    "target_start = '<'\n",
    "target_stop = '>'\n",
    "\n",
    "for i , char in enumerate(story):\n",
    "    if char == target_start:\n",
    "        start_of_word= i\n",
    "\n",
    "    if char == target_stop and start_of_word !=-1:\n",
    "        word = story[start_of_word:i+1]\n",
    "        words.add(word)\n",
    "        start_of_word =-1\n",
    "\n",
    "answers = {}\n",
    "\n",
    "for word in words:\n",
    "    answer = input(\"Enter a word for \"+word+ \":\")\n",
    "    answers[word]= answer\n",
    "\n",
    "for word in words:\n",
    "    story=story.replace(word,answers[word])\n",
    "\n",
    "print(story)"
   ]
  },
  {
   "cell_type": "code",
   "execution_count": null,
   "id": "619f8561-0757-4522-a886-bcf98a1a9bc2",
   "metadata": {},
   "outputs": [],
   "source": []
  },
  {
   "cell_type": "markdown",
   "id": "2b6ba051-534b-4cb0-8600-182dbac31bf6",
   "metadata": {},
   "source": [
    "## Number guesser"
   ]
  },
  {
   "cell_type": "code",
   "execution_count": 5,
   "id": "0f326733-a803-407b-94f7-f28cdc625d1f",
   "metadata": {},
   "outputs": [
    {
     "name": "stdin",
     "output_type": "stream",
     "text": [
      "Enter the maximum range of guesing number:: 5\n",
      "Guess a Number 2\n"
     ]
    },
    {
     "name": "stdout",
     "output_type": "stream",
     "text": [
      "Try another greater number next time!!!\n"
     ]
    },
    {
     "name": "stdin",
     "output_type": "stream",
     "text": [
      "Guess a Number 4\n"
     ]
    },
    {
     "name": "stdout",
     "output_type": "stream",
     "text": [
      "Try another smaller number next time!!!\n"
     ]
    },
    {
     "name": "stdin",
     "output_type": "stream",
     "text": [
      "Guess a Number 3\n"
     ]
    },
    {
     "name": "stdout",
     "output_type": "stream",
     "text": [
      "BINGO!!! :-)\n",
      "The Randomly generated Number==> 3\n",
      "Number of attempts made=  3\n"
     ]
    }
   ],
   "source": [
    "## code \n",
    "import random\n",
    "\n",
    "max_range = int(input(\"Enter the maximum range of guesing number::\"))\n",
    "guesses = 0\n",
    "if max_range<0:\n",
    "    print(\"Please enter a POSITIVE number for max range!!\")\n",
    "    exit(0)\n",
    "else:\n",
    "    random_number = random.randint(0,max_range)\n",
    "\n",
    "    while True:\n",
    "        guesses+=1\n",
    "        user_guess = int(input(\"Guess a Number\"))\n",
    "\n",
    "        if user_guess == random_number:\n",
    "            print(\"BINGO!!! :-)\")\n",
    "            print(\"The Randomly generated Number==>\", random_number)\n",
    "            print(\"Number of attempts made= \",guesses)\n",
    "            break\n",
    "        elif user_guess> random_number:\n",
    "            print(\"Try another smaller number next time!!!\")\n",
    "        else:\n",
    "            print(\"Try another greater number next time!!!\")\n"
   ]
  },
  {
   "cell_type": "code",
   "execution_count": null,
   "id": "6d00355a-8218-4bae-8549-074c50eef41b",
   "metadata": {},
   "outputs": [],
   "source": []
  },
  {
   "cell_type": "markdown",
   "id": "2ce8d129-9010-44af-bddc-283d8262f24f",
   "metadata": {},
   "source": [
    "## Password Generator"
   ]
  },
  {
   "cell_type": "code",
   "execution_count": 6,
   "id": "ec0bd532-2e1b-4ced-b3d0-b19aef9476ab",
   "metadata": {},
   "outputs": [
    {
     "name": "stdin",
     "output_type": "stream",
     "text": [
      "Would you like to add a new password or view existing ones (view, add), press q to quit?  add\n",
      "Account Name:  Arnab Lala\n",
      "Password:  Alphonsa@@11\n",
      "Would you like to add a new password or view existing ones (view, add), press q to quit?  view\n"
     ]
    },
    {
     "name": "stdout",
     "output_type": "stream",
     "text": [
      "User: Arnab Lala | Password: Alphonsa@@11\n"
     ]
    },
    {
     "name": "stdin",
     "output_type": "stream",
     "text": [
      "Would you like to add a new password or view existing ones (view, add), press q to quit?  q\n"
     ]
    }
   ],
   "source": [
    "## code\n",
    "from cryptography.fernet import Fernet\n",
    "\n",
    "\n",
    "def write_key():\n",
    "    key = Fernet.generate_key()\n",
    "    with open(\"key.key\", \"wb\") as key_file:\n",
    "        key_file.write(key)\n",
    "\n",
    "write_key()\n",
    "def load_key():\n",
    "    file = open(\"key.key\", \"rb\")\n",
    "    key = file.read()\n",
    "    file.close()\n",
    "    return key\n",
    "\n",
    "\n",
    "key = load_key()\n",
    "fer = Fernet(key)\n",
    "\n",
    "\n",
    "def view():\n",
    "    with open('passwords.txt', 'r') as f:\n",
    "        for line in f.readlines():\n",
    "            data = line.rstrip()\n",
    "            user, passw = data.split(\"|\")\n",
    "            print(\"User:\", user, \"| Password:\",fer.decrypt(passw.encode()).decode())\n",
    "\n",
    "\n",
    "def add():\n",
    "    name = input(\"Account Name: \")\n",
    "    pwd = input(\"Password: \")\n",
    "\n",
    "    with open('passwords.txt', 'a') as f:\n",
    "        f.write(name + \"|\" + fer.encrypt(pwd.encode()).decode() + \"\\n\")\n",
    "\n",
    "\n",
    "while True:\n",
    "    mode = input(\"Would you like to add a new password or view existing ones (view, add), press q to quit? \").lower()\n",
    "    if mode == \"q\":\n",
    "        break\n",
    "\n",
    "    if mode == \"view\":\n",
    "        view()\n",
    "    elif mode == \"add\":\n",
    "        add()\n",
    "    else:\n",
    "        print(\"Invalid mode.\")\n",
    "        continue"
   ]
  },
  {
   "cell_type": "code",
   "execution_count": null,
   "id": "0dd2b122-0520-4d45-9a31-ca4ce4941df1",
   "metadata": {},
   "outputs": [],
   "source": []
  },
  {
   "cell_type": "markdown",
   "id": "e7b96dd8-0e71-4de0-86a8-d6655d02b2bb",
   "metadata": {},
   "source": [
    "## PIG Game"
   ]
  },
  {
   "cell_type": "code",
   "execution_count": 7,
   "id": "741c31ff-d6a7-4ea7-a339-9827170b16e5",
   "metadata": {},
   "outputs": [
    {
     "name": "stdin",
     "output_type": "stream",
     "text": [
      "Enter the no of players in gameing(2-4)::  3\n"
     ]
    },
    {
     "name": "stdout",
     "output_type": "stream",
     "text": [
      "\n",
      "Player number 1 turn has just started!\n",
      "Your total score is: 0 \n",
      "\n"
     ]
    },
    {
     "name": "stdin",
     "output_type": "stream",
     "text": [
      "Would you like to roll (y)?  y\n"
     ]
    },
    {
     "name": "stdout",
     "output_type": "stream",
     "text": [
      "You rolled a: 6\n",
      "Your score is: 6\n"
     ]
    },
    {
     "name": "stdin",
     "output_type": "stream",
     "text": [
      "Would you like to roll (y)?  y\n"
     ]
    },
    {
     "name": "stdout",
     "output_type": "stream",
     "text": [
      "You rolled a: 6\n",
      "Your score is: 12\n"
     ]
    },
    {
     "name": "stdin",
     "output_type": "stream",
     "text": [
      "Would you like to roll (y)?  y\n"
     ]
    },
    {
     "name": "stdout",
     "output_type": "stream",
     "text": [
      "You rolled a 1! Turn done!\n",
      "Your total score is: 18\n",
      "\n",
      "Player number 2 turn has just started!\n",
      "Your total score is: 0 \n",
      "\n"
     ]
    },
    {
     "name": "stdin",
     "output_type": "stream",
     "text": [
      "Would you like to roll (y)?  y\n"
     ]
    },
    {
     "name": "stdout",
     "output_type": "stream",
     "text": [
      "You rolled a 1! Turn done!\n",
      "Your total score is: 0\n",
      "\n",
      "Player number 3 turn has just started!\n",
      "Your total score is: 0 \n",
      "\n"
     ]
    },
    {
     "name": "stdin",
     "output_type": "stream",
     "text": [
      "Would you like to roll (y)?  y\n"
     ]
    },
    {
     "name": "stdout",
     "output_type": "stream",
     "text": [
      "You rolled a: 2\n",
      "Your score is: 2\n"
     ]
    },
    {
     "name": "stdin",
     "output_type": "stream",
     "text": [
      "Would you like to roll (y)?  y\n"
     ]
    },
    {
     "name": "stdout",
     "output_type": "stream",
     "text": [
      "You rolled a: 3\n",
      "Your score is: 5\n"
     ]
    },
    {
     "name": "stdin",
     "output_type": "stream",
     "text": [
      "Would you like to roll (y)?  y\n"
     ]
    },
    {
     "name": "stdout",
     "output_type": "stream",
     "text": [
      "You rolled a 1! Turn done!\n",
      "Your total score is: 7\n",
      "Player number 1 is the winner with a score of: 18\n"
     ]
    }
   ],
   "source": [
    "## code\n",
    "import random\n",
    "\n",
    "def roll():\n",
    "    min_val=1\n",
    "    max_val=6\n",
    "    roll= random.randint(min_val,max_val)\n",
    "\n",
    "    return roll\n",
    "\n",
    "value= roll()\n",
    "\n",
    "players =0\n",
    "while True:\n",
    "    players= input(\"Enter the no of players in gameing(2-4):: \")\n",
    "    if players.isdigit():\n",
    "       players=int(players)\n",
    "       if 2<= players<=4:\n",
    "           break\n",
    "       else:\n",
    "           print(\"Input players must be in between 2 to 4!\")\n",
    "\n",
    "    else:\n",
    "        print(\"Invalid Input\")\n",
    "\n",
    "\n",
    "max_score = 50\n",
    "player_scores = [0 for _ in range((players))]\n",
    "\n",
    "while max(player_scores) < max_score:\n",
    "    for player_idx in range(players):\n",
    "        print(\"\\nPlayer number\", player_idx + 1, \"turn has just started!\")\n",
    "        print(\"Your total score is:\", player_scores[player_idx], \"\\n\")\n",
    "        current_score = 0\n",
    "\n",
    "        while True:\n",
    "            should_roll = input(\"Would you like to roll (y)? \")\n",
    "            if should_roll.lower() != \"y\":\n",
    "                break\n",
    "\n",
    "            value = roll()\n",
    "            if value == 1:\n",
    "                print(\"You rolled a 1! Turn done!\")\n",
    "                current_score = 0\n",
    "                break\n",
    "            else:\n",
    "                current_score += value\n",
    "                print(\"You rolled a:\", value)\n",
    "\n",
    "            print(\"Your score is:\", current_score)\n",
    "            player_scores[player_idx] += current_score\n",
    "\n",
    "        print(\"Your total score is:\", player_scores[player_idx])\n",
    "\n",
    "    max_score = max(player_scores)\n",
    "    winning_idx = player_scores.index(max_score)\n",
    "    print(\"Player number\", winning_idx + 1, \"is the winner with a score of:\", max_score)"
   ]
  },
  {
   "cell_type": "code",
   "execution_count": null,
   "id": "9b64afb8-53dd-4487-a436-eacdc6ea9cb0",
   "metadata": {},
   "outputs": [],
   "source": []
  },
  {
   "cell_type": "markdown",
   "id": "d66c8de7-f2cb-43fe-9096-676c624237da",
   "metadata": {},
   "source": [
    "## ROCK-PAPER-SCISSORS GAME"
   ]
  },
  {
   "cell_type": "code",
   "execution_count": 8,
   "id": "9631ae93-c3c1-4168-a6b9-c29c579b83d0",
   "metadata": {},
   "outputs": [
    {
     "name": "stdin",
     "output_type": "stream",
     "text": [
      "Type Rock/Paper/Scissors or Q to quit.  PAPPER\n",
      "Type Rock/Paper/Scissors or Q to quit.  PAPER\n"
     ]
    },
    {
     "name": "stdout",
     "output_type": "stream",
     "text": [
      "Computer picked: scissors .\n",
      "You Lost, computer wins!\n"
     ]
    },
    {
     "name": "stdin",
     "output_type": "stream",
     "text": [
      "Type Rock/Paper/Scissors or Q to quit.  ROCK\n"
     ]
    },
    {
     "name": "stdout",
     "output_type": "stream",
     "text": [
      "Computer picked: scissors .\n",
      "BINGO!!!, YOU BET COMPUTER!\n"
     ]
    },
    {
     "name": "stdin",
     "output_type": "stream",
     "text": [
      "Type Rock/Paper/Scissors or Q to quit.  SCISSORS\n"
     ]
    },
    {
     "name": "stdout",
     "output_type": "stream",
     "text": [
      "Computer picked: paper .\n",
      "BINGO!!!, YOU BET COMPUTER!\n"
     ]
    },
    {
     "name": "stdin",
     "output_type": "stream",
     "text": [
      "Type Rock/Paper/Scissors or Q to quit.  PAPER\n"
     ]
    },
    {
     "name": "stdout",
     "output_type": "stream",
     "text": [
      "Computer picked: paper .\n",
      "You Lost, computer wins!\n"
     ]
    },
    {
     "name": "stdin",
     "output_type": "stream",
     "text": [
      "Type Rock/Paper/Scissors or Q to quit.  ROCK\n"
     ]
    },
    {
     "name": "stdout",
     "output_type": "stream",
     "text": [
      "Computer picked: paper .\n",
      "You Lost, computer wins!\n"
     ]
    },
    {
     "name": "stdin",
     "output_type": "stream",
     "text": [
      "Type Rock/Paper/Scissors or Q to quit.  ROCK\n"
     ]
    },
    {
     "name": "stdout",
     "output_type": "stream",
     "text": [
      "Computer picked: scissors .\n",
      "BINGO!!!, YOU BET COMPUTER!\n"
     ]
    },
    {
     "name": "stdin",
     "output_type": "stream",
     "text": [
      "Type Rock/Paper/Scissors or Q to quit.  Q\n"
     ]
    },
    {
     "name": "stdout",
     "output_type": "stream",
     "text": [
      "You won 3 times::\n",
      "Computer wins 3 times::\n",
      "GoodBye!\n"
     ]
    }
   ],
   "source": [
    "import random\n",
    "\n",
    "user_wins=0\n",
    "comp_wins=0\n",
    "options = [\"rock\", \"paper\", \"scissors\"]\n",
    "\n",
    "while True:\n",
    "    user_input = input(\"Type Rock/Paper/Scissors or Q to quit. \").lower()\n",
    "    if user_input== 'q':\n",
    "        break\n",
    "    else:\n",
    "        if user_input not in options:\n",
    "            continue\n",
    "\n",
    "        random_number = random.randint(0,2)\n",
    "        # rock:0 paper:1 sciisors:2\n",
    "        comp_picks= options[random_number]\n",
    "\n",
    "        print(\"Computer picked:\", comp_picks,\".\" )\n",
    "        if user_input==\"rock\" and comp_picks== \"scissors\":\n",
    "            print(\"BINGO!!!, YOU BET COMPUTER!\")\n",
    "            user_wins+=1\n",
    "            continue\n",
    "\n",
    "        elif user_input==\"paper\" and comp_picks== \"rock\":\n",
    "            print(\"BINGO!!!, YOU BET COMPUTER!\")\n",
    "            user_wins+=1\n",
    "            continue\n",
    "\n",
    "        elif user_input==\"scissors\" and comp_picks== \"paper\":\n",
    "            print(\"BINGO!!!, YOU BET COMPUTER!\")\n",
    "            user_wins+=1\n",
    "            continue\n",
    "\n",
    "        else:\n",
    "            print(\"You Lost, computer wins!\")\n",
    "            comp_wins+=1\n",
    "\n",
    "print(\"You won\",user_wins,\"times::\")\n",
    "print(\"Computer wins\",comp_wins,\"times::\")\n",
    "print(\"GoodBye!\")"
   ]
  },
  {
   "cell_type": "code",
   "execution_count": null,
   "id": "6b622282-dc3a-49a5-a8c1-69891481884e",
   "metadata": {},
   "outputs": [],
   "source": []
  },
  {
   "cell_type": "markdown",
   "id": "0993a3e3-48c3-47e7-b110-0e16b4ce6c1d",
   "metadata": {},
   "source": [
    "## Slot Machine Maniac"
   ]
  },
  {
   "cell_type": "code",
   "execution_count": 11,
   "id": "bd48087d-12a8-4752-b64d-00fbfbf24a26",
   "metadata": {},
   "outputs": [
    {
     "name": "stdin",
     "output_type": "stream",
     "text": [
      "How much would you deposit? $ 50\n",
      "Enter the no of lines to bet on(1 -3):  2\n",
      "How much would you BET on each line? $ 20\n"
     ]
    },
    {
     "name": "stdout",
     "output_type": "stream",
     "text": [
      "You are betting $20 on 2 lines. Total bet is equal to: $40\n"
     ]
    },
    {
     "data": {
      "text/plain": [
       "0"
      ]
     },
     "execution_count": 11,
     "metadata": {},
     "output_type": "execute_result"
    }
   ],
   "source": [
    "## code\n",
    "import random\n",
    "\n",
    "MAX_LINES =3\n",
    "MAX_BET = 100\n",
    "MIN_BET = 1\n",
    "\n",
    "ROWS = 3\n",
    "COLS = 3\n",
    "\n",
    "symbol_count= {\n",
    "    \"A\":2,\n",
    "    \"B\":4,\n",
    "    \"C\":6,\n",
    "    \"D\":8\n",
    "}\n",
    "\n",
    "def get_slot_machine_spin(rows,cols,symbols):\n",
    "    all_symbols = []\n",
    "    for symbol,symbol_value in symbol_count.items():\n",
    "        for _ in range(symbol_count):\n",
    "            all_symbols.append(symbol)\n",
    "\n",
    "\n",
    "\n",
    "\n",
    "\n",
    "def deposit():\n",
    "    while True:\n",
    "        amount = input(\"How much would you deposit? $\")\n",
    "        if amount.isdigit():\n",
    "            amount = int(amount)\n",
    "            if MIN_BET<= amount<=MAX_BET:\n",
    "                break\n",
    "            else:\n",
    "                print(f\"Enter the amount with range ${MIN_BET} - {MAX_BET}!\")\n",
    "\n",
    "        else:\n",
    "            print(\"Please a valid amount!\")\n",
    "    return  amount\n",
    "\n",
    "\n",
    "def get_no_of_lines():\n",
    "    while True:\n",
    "        lines = input(\"Enter the no of lines to bet on(1 -\" +str(MAX_LINES)+ \"): \")\n",
    "\n",
    "        if lines.isdigit():\n",
    "            lines = int(lines)\n",
    "            if 1<= lines <= MAX_LINES:\n",
    "                break\n",
    "            else:\n",
    "                print(\"Lines entered out of range\")\n",
    "\n",
    "        else:\n",
    "            print(\"Please a valid number of Lines !\")\n",
    "    return lines\n",
    "\n",
    "balance = deposit()\n",
    "\n",
    "def get_bet():\n",
    "    while True:\n",
    "        amount_to_bet = input(\"How much would you BET on each line? $\")\n",
    "        if amount_to_bet.isdigit():\n",
    "            amount_to_bet = int(amount_to_bet)\n",
    "\n",
    "            if amount_to_bet>= MIN_BET and amount_to_bet <= balance:\n",
    "                break\n",
    "            else:\n",
    "                print(f\"The amount to bet on must be between ${MIN_BET} and, ${balance},!\")\n",
    "\n",
    "        else:\n",
    "            print(\"Please a valid amount!\")\n",
    "    return amount_to_bet\n",
    "\n",
    "def main():\n",
    "        lines = get_no_of_lines()\n",
    "        bet = get_bet()\n",
    "        total_bet = bet*lines\n",
    "\n",
    "\n",
    "        if total_bet > balance:\n",
    "            print(f\"You have got only ${balance} in your wallet.. You cant bet above it!.. Update your wallet. Thanks!\")\n",
    "\n",
    "        else:\n",
    "            print(f\"You are betting ${bet} on {lines} lines. Total bet is equal to: ${total_bet}\")\n",
    "\n",
    "        return 0\n",
    "main()\n"
   ]
  },
  {
   "cell_type": "code",
   "execution_count": null,
   "id": "52dd1e70-6627-47f5-877c-931d3809fd8f",
   "metadata": {},
   "outputs": [],
   "source": []
  },
  {
   "cell_type": "markdown",
   "id": "6f4d393e-61dd-421e-ac19-a6676d6f4879",
   "metadata": {},
   "source": [
    "## Timed-Math-Problem"
   ]
  },
  {
   "cell_type": "code",
   "execution_count": 15,
   "id": "9d639b9e-63e8-4f5f-ba9c-825a3c3a8fc4",
   "metadata": {},
   "outputs": [
    {
     "name": "stdin",
     "output_type": "stream",
     "text": [
      "Press Enter to start \n"
     ]
    },
    {
     "name": "stdout",
     "output_type": "stream",
     "text": [
      "_________________________________\n"
     ]
    },
    {
     "name": "stdin",
     "output_type": "stream",
     "text": [
      "Problem#1: 8 + 6 =  14\n",
      "Problem#2: 9 - 9 =  0\n",
      "Problem#3: 8 + 8 =  16\n",
      "Problem#4: 9 - 3 =  6\n",
      "Problem#5: 7 * 12 =  84\n",
      "Problem#6: 7 * 12 =  84\n",
      "Problem#7: 10 - 4 =  6\n",
      "Problem#8: 12 * 4 =  48\n",
      "Problem#9: 9 - 8 =  1\n",
      "Problem#10: 4 - 8 =  -4\n"
     ]
    },
    {
     "name": "stdout",
     "output_type": "stream",
     "text": [
      "_________________________________\n",
      "Nice WorK!You finished it in :-  18\n"
     ]
    }
   ],
   "source": [
    "import time\n",
    "import random\n",
    "\n",
    "OPERATORS = [\"+\",\"-\",\"*\"]\n",
    "MIN_OPRAND = 3\n",
    "MAX_OPERAND = 12\n",
    "TOTAL_PROBS = 10\n",
    "\n",
    "def generate_problem():\n",
    "    left = random.randint(MIN_OPRAND,MAX_OPERAND)\n",
    "    right= random.randint(MIN_OPRAND,MAX_OPERAND)\n",
    "\n",
    "    operator = random.choice(OPERATORS)\n",
    "\n",
    "    expr = str(left) + \" \"+ operator +\" \" +str(right)\n",
    "    answer = eval(expr)\n",
    "\n",
    "\n",
    "    return expr,answer\n",
    "\n",
    "wrong=0\n",
    "input(\"Press Enter to start\")\n",
    "print(\"_________________________________\")\n",
    "\n",
    "\n",
    "start_time=  time.time()\n",
    "\n",
    "\n",
    "for i in range(TOTAL_PROBS):\n",
    "    expr, answer =generate_problem()\n",
    "    while True:\n",
    "        guess = input(\"Problem#\"+str(i+1)+\": \"+ expr+\" = \")\n",
    "        if (guess) == str(answer):\n",
    "            break\n",
    "        wrong+=1\n",
    "\n",
    "end_time= time.time()\n",
    "\n",
    "lapse_time = round(end_time - start_time)\n",
    "print(\"_________________________________\")\n",
    "print(\"Nice WorK!You finished it in :- \",lapse_time)"
   ]
  },
  {
   "cell_type": "code",
   "execution_count": null,
   "id": "b0125b4c-2629-449a-934f-a01a9cdd3e9f",
   "metadata": {},
   "outputs": [],
   "source": []
  }
 ],
 "metadata": {
  "kernelspec": {
   "display_name": "Python 3 (ipykernel)",
   "language": "python",
   "name": "python3"
  },
  "language_info": {
   "codemirror_mode": {
    "name": "ipython",
    "version": 3
   },
   "file_extension": ".py",
   "mimetype": "text/x-python",
   "name": "python",
   "nbconvert_exporter": "python",
   "pygments_lexer": "ipython3",
   "version": "3.10.8"
  }
 },
 "nbformat": 4,
 "nbformat_minor": 5
}
