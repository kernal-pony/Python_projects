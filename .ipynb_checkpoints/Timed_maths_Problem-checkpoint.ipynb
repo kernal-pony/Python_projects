{
 "cells": [
  {
   "cell_type": "code",
   "execution_count": 1,
   "id": "c369eb86-6fa1-4b48-b1ca-3c96d165f4f1",
   "metadata": {},
   "outputs": [
    {
     "name": "stdin",
     "output_type": "stream",
     "text": [
      "Press Enter to start \n"
     ]
    },
    {
     "name": "stdout",
     "output_type": "stream",
     "text": [
      "_________________________________\n"
     ]
    },
    {
     "name": "stdin",
     "output_type": "stream",
     "text": [
      "Problem#1: 9 + 9 =  18\n",
      "Problem#2: 3 + 12 =  15\n",
      "Problem#3: 12 - 3 =  9\n",
      "Problem#4: 4 - 11 =  -7\n",
      "Problem#5: 9 - 12 =  -3\n",
      "Problem#6: 3 * 8 =  24\n",
      "Problem#7: 9 - 8 =  1\n",
      "Problem#8: 5 + 7 =  12\n",
      "Problem#9: 12 + 3 =  15\n",
      "Problem#10: 3 * 12 =  36\n"
     ]
    },
    {
     "name": "stdout",
     "output_type": "stream",
     "text": [
      "_________________________________\n",
      "Nice WorK!You finished it in :-  18\n"
     ]
    }
   ],
   "source": [
    "import time\n",
    "import random\n",
    "\n",
    "OPERATORS = [\"+\",\"-\",\"*\"]\n",
    "MIN_OPRAND = 3\n",
    "MAX_OPERAND = 12\n",
    "TOTAL_PROBS = 10\n",
    "\n",
    "def generate_problem():\n",
    "    left = random.randint(MIN_OPRAND,MAX_OPERAND)\n",
    "    right= random.randint(MIN_OPRAND,MAX_OPERAND)\n",
    "\n",
    "    operator = random.choice(OPERATORS)\n",
    "\n",
    "    expr = str(left) + \" \"+ operator +\" \" +str(right)\n",
    "    answer = eval(expr)\n",
    "\n",
    "\n",
    "    return expr,answer\n",
    "\n",
    "wrong=0\n",
    "input(\"Press Enter to start\")\n",
    "print(\"_________________________________\")\n",
    "\n",
    "\n",
    "start_time=  time.time()\n",
    "\n",
    "\n",
    "for i in range(TOTAL_PROBS):\n",
    "    expr, answer =generate_problem()\n",
    "    while True:\n",
    "        guess = input(\"Problem#\"+str(i+1)+\": \"+ expr+\" = \")\n",
    "        if (guess) == str(answer):\n",
    "            break\n",
    "        wrong+=1\n",
    "\n",
    "end_time= time.time()\n",
    "\n",
    "lapse_time = round(end_time - start_time)\n",
    "print(\"_________________________________\")\n",
    "print(\"Nice WorK!You finished it in :- \",lapse_time)"
   ]
  },
  {
   "cell_type": "code",
   "execution_count": null,
   "id": "49ae8809-f576-49b7-86bf-166cd83d29cb",
   "metadata": {},
   "outputs": [],
   "source": []
  }
 ],
 "metadata": {
  "kernelspec": {
   "display_name": "Python 3 (ipykernel)",
   "language": "python",
   "name": "python3"
  },
  "language_info": {
   "codemirror_mode": {
    "name": "ipython",
    "version": 3
   },
   "file_extension": ".py",
   "mimetype": "text/x-python",
   "name": "python",
   "nbconvert_exporter": "python",
   "pygments_lexer": "ipython3",
   "version": "3.10.8"
  }
 },
 "nbformat": 4,
 "nbformat_minor": 5
}
