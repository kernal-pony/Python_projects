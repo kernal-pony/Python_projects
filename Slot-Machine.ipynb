{
 "cells": [
  {
   "cell_type": "code",
   "execution_count": 1,
   "id": "5a7b048a-abd0-4d72-80e6-52c07fb612f1",
   "metadata": {},
   "outputs": [
    {
     "name": "stdin",
     "output_type": "stream",
     "text": [
      "How much would you deposit? $ 50\n",
      "Enter the no of lines to bet on(1 -3):  2\n",
      "How much would you BET on each line? $ 2\n"
     ]
    },
    {
     "name": "stdout",
     "output_type": "stream",
     "text": [
      "You are betting $2 on 2 lines. Total bet is equal to: $4\n"
     ]
    },
    {
     "data": {
      "text/plain": [
       "0"
      ]
     },
     "execution_count": 1,
     "metadata": {},
     "output_type": "execute_result"
    }
   ],
   "source": [
    "import random\n",
    "\n",
    "MAX_LINES =3\n",
    "MAX_BET = 100\n",
    "MIN_BET = 1\n",
    "\n",
    "ROWS = 3\n",
    "COLS = 3\n",
    "\n",
    "symbol_count= {\n",
    "    \"A\":2,\n",
    "    \"B\":4,\n",
    "    \"C\":6,\n",
    "    \"D\":8\n",
    "}\n",
    "\n",
    "def get_slot_machine_spin(rows,cols,symbols):\n",
    "    all_symbols = []\n",
    "    for symbol,symbol_value in symbol_count.items():\n",
    "        for _ in range(symbol_count):\n",
    "            all_symbols.append(symbol)\n",
    "\n",
    "\n",
    "\n",
    "\n",
    "\n",
    "def deposit():\n",
    "    while True:\n",
    "        amount = input(\"How much would you deposit? $\")\n",
    "        if amount.isdigit():\n",
    "            amount = int(amount)\n",
    "            if MIN_BET<= amount<=MAX_BET:\n",
    "                break\n",
    "            else:\n",
    "                print(f\"Enter the amount with range ${MIN_BET} - {MAX_BET}!\")\n",
    "\n",
    "        else:\n",
    "            print(\"Please a valid amount!\")\n",
    "    return  amount\n",
    "\n",
    "\n",
    "def get_no_of_lines():\n",
    "    while True:\n",
    "        lines = input(\"Enter the no of lines to bet on(1 -\" +str(MAX_LINES)+ \"): \")\n",
    "\n",
    "        if lines.isdigit():\n",
    "            lines = int(lines)\n",
    "            if 1<= lines <= MAX_LINES:\n",
    "                break\n",
    "            else:\n",
    "                print(\"Lines entered out of range\")\n",
    "\n",
    "        else:\n",
    "            print(\"Please a valid number of Lines !\")\n",
    "    return lines\n",
    "\n",
    "balance = deposit()\n",
    "\n",
    "def get_bet():\n",
    "    while True:\n",
    "        amount_to_bet = input(\"How much would you BET on each line? $\")\n",
    "        if amount_to_bet.isdigit():\n",
    "            amount_to_bet = int(amount_to_bet)\n",
    "\n",
    "            if amount_to_bet>= MIN_BET and amount_to_bet <= balance:\n",
    "                break\n",
    "            else:\n",
    "                print(f\"The amount to bet on must be between ${MIN_BET} and, ${balance},!\")\n",
    "\n",
    "        else:\n",
    "            print(\"Please a valid amount!\")\n",
    "    return amount_to_bet\n",
    "\n",
    "def main():\n",
    "        lines = get_no_of_lines()\n",
    "        bet = get_bet()\n",
    "        total_bet = bet*lines\n",
    "\n",
    "\n",
    "        if total_bet > balance:\n",
    "            print(f\"You have got only ${balance} in your wallet.. You cant bet above it!.. Update your wallet. Thanks!\")\n",
    "\n",
    "        else:\n",
    "            print(f\"You are betting ${bet} on {lines} lines. Total bet is equal to: ${total_bet}\")\n",
    "\n",
    "        return 0\n",
    "main()"
   ]
  },
  {
   "cell_type": "code",
   "execution_count": null,
   "id": "e55ea26a-f574-43ff-8858-232a00aad407",
   "metadata": {},
   "outputs": [],
   "source": []
  }
 ],
 "metadata": {
  "kernelspec": {
   "display_name": "Python 3 (ipykernel)",
   "language": "python",
   "name": "python3"
  },
  "language_info": {
   "codemirror_mode": {
    "name": "ipython",
    "version": 3
   },
   "file_extension": ".py",
   "mimetype": "text/x-python",
   "name": "python",
   "nbconvert_exporter": "python",
   "pygments_lexer": "ipython3",
   "version": "3.10.8"
  }
 },
 "nbformat": 4,
 "nbformat_minor": 5
}
