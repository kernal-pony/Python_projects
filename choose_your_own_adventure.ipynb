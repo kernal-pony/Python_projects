{
 "cells": [
  {
   "cell_type": "markdown",
   "id": "204d4fa4-c571-45fd-967a-5f4278d931a1",
   "metadata": {},
   "source": [
    "## choose_your_own_adventure.py"
   ]
  },
  {
   "cell_type": "code",
   "execution_count": 4,
   "id": "c5725903-8edf-43f2-8eed-df35e4433b9f",
   "metadata": {},
   "outputs": [
    {
     "name": "stdin",
     "output_type": "stream",
     "text": [
      "Enter your name:: rohan\n"
     ]
    },
    {
     "name": "stdout",
     "output_type": "stream",
     "text": [
      "Welcome, rohan to this adventure game!\n"
     ]
    },
    {
     "name": "stdin",
     "output_type": "stream",
     "text": [
      "You are on dirt road,it has come to an end.. and you can go left or right..Which way you wanna go? right\n",
      "You strolled up to a hanging bridge. do you want to CROSS it or HEAD BACK?(cross/headback) cross\n",
      "you crossed the bridge and meet a stanger! Do you TALK/ IGNORE the person? talk\n"
     ]
    },
    {
     "name": "stdout",
     "output_type": "stream",
     "text": [
      "You talk to the starnger.. gives you bounty!.. BINGO you have WON :-)\n",
      "Please join again to go in adventure! rohan\n"
     ]
    }
   ],
   "source": [
    "name = input(\"Enter your name::\")\n",
    "print(\"Welcome,\", name, \"to this adventure game!\")\n",
    "\n",
    "answer = input(\"You are on dirt road,it has come to an end.. and you can go left or right..Which way you wanna go?\").lower()\n",
    "\n",
    "if answer == \"left\":\n",
    "    answer = input(\"You come to a river.you can WALK or SWIM across. type WALK to walk around or SWIM to swim across.\").lower()\n",
    "\n",
    "    if answer == \"swim\":\n",
    "        print(\"you swim across and were to eaten by alligator!\")\n",
    "\n",
    "    elif answer == \"walk\":\n",
    "        print(\"You walked for miles and ran out of water and lost the game!\")\n",
    "\n",
    "\n",
    "    else:\n",
    "        print(\"Not a valid option. You lose!\")\n",
    "\n",
    "elif answer == \"right\":\n",
    "    answer=input(\"You strolled up to a hanging bridge. do you want to CROSS it or HEAD BACK?(cross/headback)\").lower()\n",
    "\n",
    "    if answer == \"cross\":\n",
    "        answer = input(\"you crossed the bridge and meet a stanger! Do you TALK/ IGNORE the person?\").lower()\n",
    "\n",
    "        if answer == \"talk\":\n",
    "            print(\"You talk to the starnger.. gives you bounty!.. BINGO you have WON :-)\")\n",
    "\n",
    "        elif answer == \"ignore\":\n",
    "            print(\"You are a terrible person.. Humble Yourself.. Sad but you LOST\")\n",
    "\n",
    "        else:\n",
    "            print(\"Invalid choice!.. You lose.\")\n",
    "\n",
    "\n",
    "    elif answer == \"headback\":\n",
    "        print(\"You go back and lose!\")\n",
    "\n",
    "\n",
    "    else:\n",
    "        print(\"Not a valid option. You lose!\")\n",
    "else:\n",
    "    print(\"Not a valid option.. You lose:-( \")\n",
    "\n",
    "print(\"Please join again to go in adventure!\",name)\n",
    "\n"
   ]
  },
  {
   "cell_type": "code",
   "execution_count": null,
   "id": "96aa03c0-62d8-4870-b62b-05f351536588",
   "metadata": {},
   "outputs": [],
   "source": []
  }
 ],
 "metadata": {
  "kernelspec": {
   "display_name": "Python 3 (ipykernel)",
   "language": "python",
   "name": "python3"
  },
  "language_info": {
   "codemirror_mode": {
    "name": "ipython",
    "version": 3
   },
   "file_extension": ".py",
   "mimetype": "text/x-python",
   "name": "python",
   "nbconvert_exporter": "python",
   "pygments_lexer": "ipython3",
   "version": "3.10.8"
  }
 },
 "nbformat": 4,
 "nbformat_minor": 5
}
