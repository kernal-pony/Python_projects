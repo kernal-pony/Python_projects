{
 "cells": [
  {
   "cell_type": "code",
   "execution_count": 3,
   "id": "213bc9f1-9145-4d7a-bd5a-befdf14792af",
   "metadata": {},
   "outputs": [
    {
     "name": "stdin",
     "output_type": "stream",
     "text": [
      "Enter the maximum range of guesing number:: 5\n",
      "Guess a Number 2\n"
     ]
    },
    {
     "name": "stdout",
     "output_type": "stream",
     "text": [
      "BINGO!!! :-)\n",
      "The Randomly generated Number==> 2\n",
      "Number of attempts made=  1\n"
     ]
    }
   ],
   "source": [
    "import random\n",
    "\n",
    "max_range = int(input(\"Enter the maximum range of guesing number::\"))\n",
    "guesses = 0\n",
    "if max_range<0:\n",
    "    print(\"Please enter a POSITIVE number for max range!!\")\n",
    "    exit(0)\n",
    "else:\n",
    "    random_number = random.randint(0,max_range)\n",
    "\n",
    "    while True:\n",
    "        guesses+=1\n",
    "        user_guess = int(input(\"Guess a Number\"))\n",
    "\n",
    "        if user_guess == random_number:\n",
    "            print(\"BINGO!!! :-)\")\n",
    "            print(\"The Randomly generated Number==>\", random_number)\n",
    "            print(\"Number of attempts made= \",guesses)\n",
    "            break\n",
    "        elif user_guess> random_number:\n",
    "            print(\"Try another smaller number next time!!!\")\n",
    "        else:\n",
    "            print(\"Try another greater number next time!!!\")\n"
   ]
  },
  {
   "cell_type": "code",
   "execution_count": null,
   "id": "f14c40f3-f160-498e-84d6-069bd18555dc",
   "metadata": {},
   "outputs": [],
   "source": []
  }
 ],
 "metadata": {
  "kernelspec": {
   "display_name": "Python 3 (ipykernel)",
   "language": "python",
   "name": "python3"
  },
  "language_info": {
   "codemirror_mode": {
    "name": "ipython",
    "version": 3
   },
   "file_extension": ".py",
   "mimetype": "text/x-python",
   "name": "python",
   "nbconvert_exporter": "python",
   "pygments_lexer": "ipython3",
   "version": "3.10.8"
  }
 },
 "nbformat": 4,
 "nbformat_minor": 5
}
