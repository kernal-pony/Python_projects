{
 "cells": [
  {
   "cell_type": "code",
   "execution_count": 2,
   "id": "0b3d1c95-04f2-4571-b9d9-028a1ad12e02",
   "metadata": {},
   "outputs": [
    {
     "name": "stdin",
     "output_type": "stream",
     "text": [
      "Enter the no of players in gameing(2-4)::  4\n"
     ]
    },
    {
     "name": "stdout",
     "output_type": "stream",
     "text": [
      "\n",
      "Player number 1 turn has just started!\n",
      "Your total score is: 0 \n",
      "\n"
     ]
    },
    {
     "name": "stdin",
     "output_type": "stream",
     "text": [
      "Would you like to roll (y)?  y\n"
     ]
    },
    {
     "name": "stdout",
     "output_type": "stream",
     "text": [
      "You rolled a: 3\n",
      "Your score is: 3\n"
     ]
    },
    {
     "name": "stdin",
     "output_type": "stream",
     "text": [
      "Would you like to roll (y)?  y\n"
     ]
    },
    {
     "name": "stdout",
     "output_type": "stream",
     "text": [
      "You rolled a 1! Turn done!\n",
      "Your total score is: 3\n",
      "\n",
      "Player number 2 turn has just started!\n",
      "Your total score is: 0 \n",
      "\n"
     ]
    },
    {
     "name": "stdin",
     "output_type": "stream",
     "text": [
      "Would you like to roll (y)?  y\n"
     ]
    },
    {
     "name": "stdout",
     "output_type": "stream",
     "text": [
      "You rolled a: 4\n",
      "Your score is: 4\n"
     ]
    },
    {
     "name": "stdin",
     "output_type": "stream",
     "text": [
      "Would you like to roll (y)?  y\n"
     ]
    },
    {
     "name": "stdout",
     "output_type": "stream",
     "text": [
      "You rolled a 1! Turn done!\n",
      "Your total score is: 4\n",
      "\n",
      "Player number 3 turn has just started!\n",
      "Your total score is: 0 \n",
      "\n"
     ]
    },
    {
     "name": "stdin",
     "output_type": "stream",
     "text": [
      "Would you like to roll (y)?  y\n"
     ]
    },
    {
     "name": "stdout",
     "output_type": "stream",
     "text": [
      "You rolled a: 5\n",
      "Your score is: 5\n"
     ]
    },
    {
     "name": "stdin",
     "output_type": "stream",
     "text": [
      "Would you like to roll (y)?  y\n"
     ]
    },
    {
     "name": "stdout",
     "output_type": "stream",
     "text": [
      "You rolled a: 4\n",
      "Your score is: 9\n"
     ]
    },
    {
     "name": "stdin",
     "output_type": "stream",
     "text": [
      "Would you like to roll (y)?  y\n"
     ]
    },
    {
     "name": "stdout",
     "output_type": "stream",
     "text": [
      "You rolled a: 5\n",
      "Your score is: 14\n"
     ]
    },
    {
     "name": "stdin",
     "output_type": "stream",
     "text": [
      "Would you like to roll (y)?  y\n"
     ]
    },
    {
     "name": "stdout",
     "output_type": "stream",
     "text": [
      "You rolled a: 4\n",
      "Your score is: 18\n"
     ]
    },
    {
     "name": "stdin",
     "output_type": "stream",
     "text": [
      "Would you like to roll (y)?  y\n"
     ]
    },
    {
     "name": "stdout",
     "output_type": "stream",
     "text": [
      "You rolled a: 3\n",
      "Your score is: 21\n"
     ]
    },
    {
     "name": "stdin",
     "output_type": "stream",
     "text": [
      "Would you like to roll (y)?  y\n"
     ]
    },
    {
     "name": "stdout",
     "output_type": "stream",
     "text": [
      "You rolled a: 3\n",
      "Your score is: 24\n"
     ]
    },
    {
     "name": "stdin",
     "output_type": "stream",
     "text": [
      "Would you like to roll (y)?  y\n"
     ]
    },
    {
     "name": "stdout",
     "output_type": "stream",
     "text": [
      "You rolled a: 3\n",
      "Your score is: 27\n"
     ]
    },
    {
     "name": "stdin",
     "output_type": "stream",
     "text": [
      "Would you like to roll (y)?  y\n"
     ]
    },
    {
     "name": "stdout",
     "output_type": "stream",
     "text": [
      "You rolled a 1! Turn done!\n",
      "Your total score is: 118\n",
      "\n",
      "Player number 4 turn has just started!\n",
      "Your total score is: 0 \n",
      "\n"
     ]
    },
    {
     "name": "stdin",
     "output_type": "stream",
     "text": [
      "Would you like to roll (y)?  y\n"
     ]
    },
    {
     "name": "stdout",
     "output_type": "stream",
     "text": [
      "You rolled a: 4\n",
      "Your score is: 4\n"
     ]
    },
    {
     "name": "stdin",
     "output_type": "stream",
     "text": [
      "Would you like to roll (y)?  y\n"
     ]
    },
    {
     "name": "stdout",
     "output_type": "stream",
     "text": [
      "You rolled a: 5\n",
      "Your score is: 9\n"
     ]
    },
    {
     "name": "stdin",
     "output_type": "stream",
     "text": [
      "Would you like to roll (y)?  y\n"
     ]
    },
    {
     "name": "stdout",
     "output_type": "stream",
     "text": [
      "You rolled a: 3\n",
      "Your score is: 12\n"
     ]
    },
    {
     "name": "stdin",
     "output_type": "stream",
     "text": [
      "Would you like to roll (y)?  y\n"
     ]
    },
    {
     "name": "stdout",
     "output_type": "stream",
     "text": [
      "You rolled a: 6\n",
      "Your score is: 18\n"
     ]
    },
    {
     "name": "stdin",
     "output_type": "stream",
     "text": [
      "Would you like to roll (y)?  y\n"
     ]
    },
    {
     "name": "stdout",
     "output_type": "stream",
     "text": [
      "You rolled a 1! Turn done!\n",
      "Your total score is: 43\n",
      "Player number 3 is the winner with a score of: 118\n"
     ]
    }
   ],
   "source": [
    "import random\n",
    "\n",
    "def roll():\n",
    "    min_val=1\n",
    "    max_val=6\n",
    "    roll= random.randint(min_val,max_val)\n",
    "\n",
    "    return roll\n",
    "\n",
    "value= roll()\n",
    "\n",
    "players =0\n",
    "while True:\n",
    "    players= input(\"Enter the no of players in gameing(2-4):: \")\n",
    "    if players.isdigit():\n",
    "       players=int(players)\n",
    "       if 2<= players<=4:\n",
    "           break\n",
    "       else:\n",
    "           print(\"Input players must be in between 2 to 4!\")\n",
    "\n",
    "    else:\n",
    "        print(\"Invalid Input\")\n",
    "\n",
    "\n",
    "max_score = 50\n",
    "player_scores = [0 for _ in range((players))]\n",
    "\n",
    "while max(player_scores) < max_score:\n",
    "    for player_idx in range(players):\n",
    "        print(\"\\nPlayer number\", player_idx + 1, \"turn has just started!\")\n",
    "        print(\"Your total score is:\", player_scores[player_idx], \"\\n\")\n",
    "        current_score = 0\n",
    "\n",
    "        while True:\n",
    "            should_roll = input(\"Would you like to roll (y)? \")\n",
    "            if should_roll.lower() != \"y\":\n",
    "                break\n",
    "\n",
    "            value = roll()\n",
    "            if value == 1:\n",
    "                print(\"You rolled a 1! Turn done!\")\n",
    "                current_score = 0\n",
    "                break\n",
    "            else:\n",
    "                current_score += value\n",
    "                print(\"You rolled a:\", value)\n",
    "\n",
    "            print(\"Your score is:\", current_score)\n",
    "            player_scores[player_idx] += current_score\n",
    "\n",
    "        print(\"Your total score is:\", player_scores[player_idx])\n",
    "\n",
    "    max_score = max(player_scores)\n",
    "    winning_idx = player_scores.index(max_score)\n",
    "    print(\"Player number\", winning_idx + 1, \"is the winner with a score of:\", max_score)"
   ]
  },
  {
   "cell_type": "code",
   "execution_count": null,
   "id": "28631738-6787-4068-8bf7-142cc2e0b22e",
   "metadata": {},
   "outputs": [],
   "source": []
  }
 ],
 "metadata": {
  "kernelspec": {
   "display_name": "Python 3 (ipykernel)",
   "language": "python",
   "name": "python3"
  },
  "language_info": {
   "codemirror_mode": {
    "name": "ipython",
    "version": 3
   },
   "file_extension": ".py",
   "mimetype": "text/x-python",
   "name": "python",
   "nbconvert_exporter": "python",
   "pygments_lexer": "ipython3",
   "version": "3.10.8"
  }
 },
 "nbformat": 4,
 "nbformat_minor": 5
}
